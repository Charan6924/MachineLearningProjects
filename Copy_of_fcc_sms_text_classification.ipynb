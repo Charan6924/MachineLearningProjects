{
  "cells": [
    {
      "cell_type": "markdown",
      "metadata": {
        "id": "view-in-github",
        "colab_type": "text"
      },
      "source": [
        "<a href=\"https://colab.research.google.com/github/Charan6924/MachineLearningProjects/blob/main/Copy_of_fcc_sms_text_classification.ipynb\" target=\"_parent\"><img src=\"https://colab.research.google.com/assets/colab-badge.svg\" alt=\"Open In Colab\"/></a>"
      ]
    },
    {
      "cell_type": "code",
      "execution_count": null,
      "metadata": {
        "id": "8RZOuS9LWQvv",
        "collapsed": true
      },
      "outputs": [],
      "source": [
        "# import libraries\n",
        "try:\n",
        "  # %tensorflow_version only exists in Colab.\n",
        "  !pip install tf-nightly\n",
        "except Exception:\n",
        "  pass\n",
        "import tensorflow as tf\n",
        "import pandas as pd\n",
        "from tensorflow import keras\n",
        "!pip install tensorflow-datasets\n",
        "import tensorflow_datasets as tfds\n",
        "import numpy as np\n",
        "import matplotlib.pyplot as plt\n",
        "\n",
        "print(tf.__version__)"
      ]
    },
    {
      "cell_type": "code",
      "execution_count": null,
      "metadata": {
        "id": "lMHwYXHXCar3",
        "collapsed": true
      },
      "outputs": [],
      "source": [
        "# get data files\n",
        "!wget https://cdn.freecodecamp.org/project-data/sms/train-data.tsv\n",
        "!wget https://cdn.freecodecamp.org/project-data/sms/valid-data.tsv\n",
        "\n",
        "train_file_path = \"train-data.tsv\"\n",
        "test_file_path = \"valid-data.tsv\""
      ]
    },
    {
      "cell_type": "code",
      "execution_count": null,
      "metadata": {
        "id": "g_h508FEClxO",
        "collapsed": true
      },
      "outputs": [],
      "source": [
        "import csv\n",
        "f = open(train_file_path, 'r')\n",
        "csv_f = csv.reader(f, delimiter='\\t')\n",
        "count = 0\n",
        "for row in csv_f:\n",
        "  print(row)\n",
        "  count += 1\n",
        "print(count)"
      ]
    },
    {
      "cell_type": "code",
      "execution_count": null,
      "metadata": {
        "id": "zOMKywn4zReN",
        "collapsed": true
      },
      "outputs": [],
      "source": [
        "t = open(test_file_path, 'r')\n",
        "csv_t = csv.reader(t, delimiter='\\t')\n",
        "count = 0\n",
        "for row in csv_t:\n",
        "  print(row)\n",
        "  count += 1\n",
        "print(count)"
      ]
    },
    {
      "cell_type": "code",
      "source": [
        "from tensorflow.keras.models import Sequential\n",
        "from tensorflow.keras.layers import Dense, Embedding, GlobalAveragePooling1D\n",
        "from tensorflow.keras.preprocessing.text import Tokenizer\n",
        "from tensorflow.keras.preprocessing.sequence import pad_sequences\n",
        "\n",
        "train_data = pd.read_csv(train_file_path,delimiter='\\t')\n",
        "test_data = pd.read_csv(test_file_path, delimiter = '\\t')\n",
        "\n",
        "train_data.columns = [\"label\", \"message\"]\n",
        "test_data.columns = [\"label\", \"message\"]\n",
        "\n",
        "train_data[\"label\"] = train_data[\"label\"].map({\"ham\": 0, \"spam\": 1})\n",
        "test_data[\"label\"] = test_data[\"label\"].map({\"ham\": 0, \"spam\": 1})\n",
        "\n",
        "X_train = train_data[\"message\"]\n",
        "y_train = train_data[\"label\"]\n",
        "X_test = test_data[\"message\"]\n",
        "y_test = test_data[\"label\"]\n"
      ],
      "metadata": {
        "collapsed": true,
        "id": "4l4lWqw2v9wU"
      },
      "execution_count": null,
      "outputs": []
    },
    {
      "cell_type": "code",
      "source": [
        "# Tokenize and pad sequences\n",
        "tokenizer = Tokenizer(num_words=10000, oov_token=\"<OOV>\")\n",
        "tokenizer.fit_on_texts(X_train)\n",
        "\n",
        "# Convert texts to sequences\n",
        "X_train_seq = tokenizer.texts_to_sequences(X_train)\n",
        "X_test_seq = tokenizer.texts_to_sequences(X_test)\n",
        "\n",
        "# Ensure all token indices are within the range [0, num_words-1]\n",
        "X_train_seq = [[token if token < 10000 else 0 for token in seq] for seq in X_train_seq]\n",
        "X_test_seq = [[token if token < 10000 else 0 for token in seq] for seq in X_test_seq]\n",
        "\n",
        "# Pad sequences\n",
        "X_train_padded = pad_sequences(X_train_seq, maxlen=100)\n",
        "X_test_padded = pad_sequences(X_test_seq, maxlen=100)\n",
        "\n"
      ],
      "metadata": {
        "collapsed": true,
        "id": "8unsXYOfw2Is"
      },
      "execution_count": null,
      "outputs": []
    },
    {
      "cell_type": "code",
      "source": [
        "model = Sequential([\n",
        "    Embedding(input_dim=10000, output_dim=16, input_length=100),\n",
        "    GlobalAveragePooling1D(),\n",
        "    Dense(16, activation='relu'),\n",
        "    Dense(1, activation='sigmoid')\n",
        "])\n",
        "\n",
        "model.compile(optimizer='adam', loss='binary_crossentropy', metrics=['accuracy'])"
      ],
      "metadata": {
        "id": "WvEQgBAc0f8-"
      },
      "execution_count": null,
      "outputs": []
    },
    {
      "cell_type": "code",
      "source": [
        "# Train the model\n",
        "history = model.fit(\n",
        "    X_train_padded, y_train,\n",
        "    epochs=100,\n",
        "    validation_data=(X_test_padded, y_test),\n",
        "    verbose=2\n",
        ")"
      ],
      "metadata": {
        "collapsed": true,
        "id": "q8gRBWkw0kRN"
      },
      "execution_count": null,
      "outputs": []
    },
    {
      "cell_type": "code",
      "source": [
        "test_loss, test_accuracy = model.evaluate(X_test_padded, y_test, verbose=2)\n",
        "print(f\"Test Accuracy: {test_accuracy:.4f}\")\n",
        "print(f\"Test Loss: {test_loss:.4f}\")\n"
      ],
      "metadata": {
        "id": "YPdWol2Qd0Ba"
      },
      "execution_count": null,
      "outputs": []
    },
    {
      "cell_type": "code",
      "source": [
        "print(predict_message(\"Win a free iPhone now! Click the link!\"))\n",
        "print(predict_message(\"Hey, are we meeting at the café today?\"))\n",
        "print(predict_message(\"Urgent! Your account will be suspended unless you verify it immediately.\"))\n",
        "print(predict_message(\"Happy Birthday! Hope you have a great day!\"))\n"
      ],
      "metadata": {
        "id": "0lbxNiEgd6AP"
      },
      "execution_count": null,
      "outputs": []
    },
    {
      "cell_type": "code",
      "execution_count": null,
      "metadata": {
        "id": "J9tD9yACG6M9"
      },
      "outputs": [],
      "source": [
        "# function to predict messages based on model\n",
        "# (should return list containing prediction and label, ex. [0.008318834938108921, 'ham'])\n",
        "def predict_message(message):\n",
        "    \"\"\"Predict whether a message is spam or ham.\"\"\"\n",
        "\n",
        "\n",
        "    sequence = tokenizer.texts_to_sequences([message])\n",
        "    sequence = [[min(token, 10000-1) for token in seq] for seq in sequence]\n",
        "    padded = pad_sequences(sequence, maxlen=100)\n",
        "\n",
        "    prob = float(model.predict(padded, verbose=0)[0][0])\n",
        "    label = \"spam\" if prob > 0.01 else \"ham\"\n",
        "\n",
        "    return prob, label\n",
        "\n",
        "pred_text = \"URGENT! You have won a prize\"\n",
        "\n",
        "prediction = predict_message(pred_text)\n",
        "print(prediction)"
      ]
    },
    {
      "cell_type": "code",
      "execution_count": null,
      "metadata": {
        "id": "Dxotov85SjsC"
      },
      "outputs": [],
      "source": [
        "# Run this cell to test your function and model. Do not modify contents.\n",
        "def test_predictions():\n",
        "  test_messages = [\"how are you doing today\",\n",
        "                   \"sale today! to stop texts call 98912460324\",\n",
        "                   \"i dont want to go. can we try it a different day? available sat\",\n",
        "                   \"our new mobile video service is live. just install on your phone to start watching.\",\n",
        "                   \"you have won £1000 cash! call to claim your prize.\",\n",
        "                   \"i'll bring it tomorrow. don't forget the milk.\",\n",
        "                   \"wow, is your arm alright. that happened to me one time too\"\n",
        "                  ]\n",
        "\n",
        "  test_answers = [\"ham\", \"spam\", \"ham\", \"spam\", \"spam\", \"ham\", \"ham\"]\n",
        "  passed = True\n",
        "\n",
        "  for msg, ans in zip(test_messages, test_answers):\n",
        "    prediction = predict_message(msg)\n",
        "    if prediction[1] != ans:\n",
        "      passed = False\n",
        "\n",
        "  if passed:\n",
        "    print(\"You passed the challenge. Great job!\")\n",
        "  else:\n",
        "    print(\"You haven't passed yet. Keep trying.\")\n",
        "\n",
        "test_predictions()\n"
      ]
    }
  ],
  "metadata": {
    "colab": {
      "private_outputs": true,
      "provenance": [],
      "toc_visible": true,
      "include_colab_link": true
    },
    "kernelspec": {
      "display_name": "Python 3",
      "name": "python3"
    },
    "language_info": {}
  },
  "nbformat": 4,
  "nbformat_minor": 0
}